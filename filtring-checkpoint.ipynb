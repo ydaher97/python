{
 "cells": [
  {
   "cell_type": "markdown",
   "id": "77e56c54",
   "metadata": {},
   "source": [
    "\n",
    "(a) In the txt.txt_engineer file, write a code that extracts the list of all the engineering courses mentioned in it.\n",
    "The desired pattern: \"thing\" Engineering. The first \"thing\" is usually a noun NOUN a (for example:\n",
    " (civil,computer, (but sometimes it's an ADJ (e.g. transportation.)\n",
    "(b) In the file txt.ios there is a mention of all kinds of versions of ios, for example 10 ios etc. In addition there is a mention of alpha ios and also\n",
    "beta. Write a code that extracts from the ceremony all versions of ios"
   ]
  },
  {
   "cell_type": "code",
   "execution_count": null,
   "id": "c87d4241",
   "metadata": {},
   "outputs": [],
   "source": [
    "\n",
    "myfile = open(\"engineer_txt.txt\") \n",
    "search_word = \"engineering\"\n",
    "for l in myfile:\n",
    "  for word_no,w in enumerate(l.split()):\n",
    "    if(search_word == w):   \n",
    "     print (l.split()[word_no -1])\n",
    "\n",
    "\n",
    "         \n",
    "myfile = open(\"ios.txt\") \n",
    "search_word = \"iOS\"\n",
    "for l in myfile:\n",
    "  for word_no,w in enumerate(l.split()):\n",
    "    if(search_word == w):   \n",
    "     print (l.split()[word_no +1])"
   ]
  }
 ],
 "metadata": {
  "kernelspec": {
   "display_name": "Python 3 (ipykernel)",
   "language": "python",
   "name": "python3"
  },
  "language_info": {
   "codemirror_mode": {
    "name": "ipython",
    "version": 3
   },
   "file_extension": ".py",
   "mimetype": "text/x-python",
   "name": "python",
   "nbconvert_exporter": "python",
   "pygments_lexer": "ipython3",
   "version": "3.9.7"
  }
 },
 "nbformat": 4,
 "nbformat_minor": 5
}
