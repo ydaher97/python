{
 "cells": [
  {
   "cell_type": "markdown",
   "id": "a55b35eb",
   "metadata": {},
   "source": [
    "\n",
    " hide this information from the text itself (called masking.)\n",
    "Write a function that will scan the text for named entities that have the ORG, PERSON, and .GPE labels given\n",
    "Replace these tokens with \"######\"\n",
    "Your solution must be run on the file txt.file_input_ex1_pro"
   ]
  },
  {
   "cell_type": "code",
   "execution_count": null,
   "id": "e773f738",
   "metadata": {},
   "outputs": [],
   "source": [
    "import spacy\n",
    "nlp = spacy.load('en_core_web_sm')\n",
    "\n",
    "\n",
    "with open(r'C:\\Users\\lenovo\\Desktop\\מכללה\\python\\TextFiles\\TextFiles\\proj_ex1_input_file.txt', encoding='utf8') as f:\n",
    "    fi = f.read()\n",
    "doc = nlp(fi)\n",
    "\n",
    "for ent in doc.ents:\n",
    "    if ent.label_==\"ORG\" or ent.label_==\"PERSON\" or ent.label_==\"GPE\":\n",
    "          print('#####',ent.label_)\n",
    "    else:\n",
    "        print(ent.text , ent.label_)"
   ]
  }
 ],
 "metadata": {
  "kernelspec": {
   "display_name": "Python 3 (ipykernel)",
   "language": "python",
   "name": "python3"
  },
  "language_info": {
   "codemirror_mode": {
    "name": "ipython",
    "version": 3
   },
   "file_extension": ".py",
   "mimetype": "text/x-python",
   "name": "python",
   "nbconvert_exporter": "python",
   "pygments_lexer": "ipython3",
   "version": "3.9.7"
  }
 },
 "nbformat": 4,
 "nbformat_minor": 5
}
