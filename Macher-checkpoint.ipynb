{
 "cells": [
  {
   "cell_type": "markdown",
   "id": "733ea527",
   "metadata": {},
   "source": [
    "Processing two short stories and extracting the common vocabulary between them. The spacy library must be used to solve a question\n",
    "this. Of course, this question can also be solved without using any reference library.\n",
    "1) A preliminary process must be carried out in which special signs such as:\n",
    ", . \\n; ! ?\n",
    "2) All \"words\" must be turned into lowercase letters\n",
    "3) The common words between the two documents must be printed\n",
    "proj_ex3_story_1.txt and proj_ex3_story_1.txt the two files on your solution the run\n"
   ]
  },
  {
   "cell_type": "code",
   "execution_count": null,
   "id": "7a4312b9",
   "metadata": {},
   "outputs": [],
   "source": [
    "\n",
    "\n",
    "import spacy\n",
    "from spacy.matcher import Matcher\n",
    "nlp = spacy.load('en_core_web_sm')\n",
    "matcher = Matcher(nlp.vocab)\n",
    "\n",
    "with open(r'C:\\Users\\lenovo\\Desktop\\מכללה\\python\\TextFiles\\TextFiles\\proj_ex3_story_1.txt', encoding='utf8') as f:\n",
    "    fi = f.read()\n",
    "doc1 = nlp(fi)\n",
    "\n",
    "with open(r'C:\\Users\\lenovo\\Desktop\\מכללה\\python\\TextFiles\\TextFiles\\proj_ex3_story_2.txt', encoding='utf8') as f:\n",
    "    fi = f.read()\n",
    "doc2 = nlp(fi)\n",
    "for token in doc1:\n",
    "    if token.pos_ in ('PUNCT','SYM'):\n",
    "        print(' ', end=\"\")\n",
    "    else:\n",
    "        print(' ',end=\"\")\n",
    "        print(token.text.lower(),end=\"\")\n",
    "\n",
    "for token in doc2:\n",
    "    if token.pos_ in ('PUNCT','SYM'):\n",
    "        print(' ', end=\"\")\n",
    "    else:\n",
    "        print(' ',end=\"\")\n",
    "        print(token.text.lower(),end=\"\")\n",
    "\n",
    "\n",
    "words1 = doc1.split()\n",
    "words2 = doc2.split()\n",
    "intersection = set(words1) & set(words2)#split the words and compare between each\n",
    "print('the matching words are :')\n",
    "print(intersection)"
   ]
  }
 ],
 "metadata": {
  "kernelspec": {
   "display_name": "Python 3 (ipykernel)",
   "language": "python",
   "name": "python3"
  },
  "language_info": {
   "codemirror_mode": {
    "name": "ipython",
    "version": 3
   },
   "file_extension": ".py",
   "mimetype": "text/x-python",
   "name": "python",
   "nbconvert_exporter": "python",
   "pygments_lexer": "ipython3",
   "version": "3.9.7"
  }
 },
 "nbformat": 4,
 "nbformat_minor": 5
}
